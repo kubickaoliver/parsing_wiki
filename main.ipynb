{
 "cells": [
  {
   "cell_type": "markdown",
   "metadata": {},
   "source": [
    "Parsing wikipedia\n",
    "- Vyparsovanie automobilových vozidiel z wikipédii a vytvorenie služby, ktorá by podľa zadaného automobilu (podľa jeho kategórii (automobilka, rok výroby, produkcia, trieda, predchodca, typ karosérie) umožňovala vyhľadať podobné automobilové vozidlá danej kategórie"
   ]
  },
  {
   "cell_type": "code",
   "execution_count": null,
   "metadata": {},
   "outputs": [],
   "source": [
    "import json\n",
    "import bz2\n",
    "import re\n",
    "\n",
    "vehicles = []"
   ]
  },
  {
   "cell_type": "code",
   "execution_count": null,
   "metadata": {},
   "outputs": [],
   "source": [
    "class Vehicle:\n",
    "    def __init__(self, name='', manufacturer=[], production='', vehicle_class='', layout=''):\n",
    "        self.name = name\n",
    "        self.manufacturer = manufacturer\n",
    "        self.production = production\n",
    "        self.vehicle_class = vehicle_class\n",
    "        self.layout = layout"
   ]
  },
  {
   "cell_type": "code",
   "execution_count": null,
   "metadata": {},
   "outputs": [],
   "source": [
    "def parse_parameter_value(parameter: str, text: str) -> str:\n",
    "    pattern = f\"(\\|){{1}}(\\s)*({parameter}){{1}}(\\s)*(=){{1}}(\\s)*\"\n",
    "    value = re.sub(pattern, '', text)\n",
    "    value = re.split('[&]', value)\n",
    "    return value[0].replace('[', '').replace(']', '').replace('\\n', '').rstrip()\n",
    "\n",
    "\n",
    "def find_parameter(parameter: str, text: str):\n",
    "    pattern = f\"(\\|){{1}}(\\s)*({parameter}){{1}}(\\s)*(=){{1}}(\\s)*\"\n",
    "    return re.search(pattern, text)\n",
    "\n",
    "\n",
    "def get_vehicle_parameters(vehicles: list, text: str):\n",
    "    text = text.lower()\n",
    "    if find_parameter('name', text):\n",
    "        vehicles[-1]['name'] = parse_parameter_value('name', text)\n",
    "    if find_parameter('manufacturer', text):\n",
    "        manufacturers = parse_parameter_value('manufacturer', text)\n",
    "        manufacturers = re.split('[|]', manufacturers)\n",
    "        vehicles[-1]['manufacturer'] = [str(item).lstrip().rstrip() for item in manufacturers]\n",
    "    if find_parameter('class', text):\n",
    "        vehicle_class = parse_parameter_value('class', text)\n",
    "        vehicle_class = re.split('[|/]', vehicle_class)\n",
    "        vehicles[-1]['class'] = [str(item).lstrip().rstrip() for item in vehicle_class]\n",
    "    if find_parameter('production', text):\n",
    "        years = parse_parameter_value('production', text)\n",
    "        years = re.findall(r'([1-2][0-9]{3})', years)\n",
    "        if years:\n",
    "            vehicles[-1]['production_year'] = int(years[0])\n",
    "    if find_parameter('layout', text):\n",
    "        layout = parse_parameter_value('layout', text)\n",
    "        layout = re.split('[|/,#]', layout)\n",
    "        vehicles[-1]['layout'] = [str(item).lstrip().rstrip() for item in layout]"
   ]
  },
  {
   "cell_type": "code",
   "execution_count": 9,
   "metadata": {},
   "outputs": [],
   "source": [
    "if __name__ == \"__main__\":\n",
    "    # dataset/enwiki-20220920-pages-meta-current10.xml-p4045403p5399366.bz2\n",
    "    # dataset/enwiki-20220920-pages-meta-current.xml.bz2\n",
    "    global vehicles, json_file\n",
    "    with bz2.BZ2File('dataset/enwiki-20220920-pages-meta-current.xml.bz2') as f:\n",
    "        flag = False\n",
    "        for row in f:\n",
    "            row = row.decode(\"utf-8\")\n",
    "            if '{{Infobox automobile' == row.lstrip().rstrip():\n",
    "                flag = True\n",
    "                vehicles.append({\n",
    "                    'name': '',\n",
    "                    'manufacturer': [],\n",
    "                    'class': [],\n",
    "                    'layout': [],\n",
    "                    'production_year': ''\n",
    "                    })\n",
    "                continue\n",
    "            elif '}}' == row.rstrip().lstrip() and flag == True:\n",
    "                flag = False\n",
    "\n",
    "            if flag:\n",
    "                get_vehicle_parameters(vehicles=vehicles, text=row)\n",
    "        f.close()\n",
    "    \n",
    "    with open('vehicles.json', 'w') as json_file:\n",
    "        json.dump(vehicles, json_file, indent=2)\n",
    "        json_file.close()"
   ]
  },
  {
   "cell_type": "code",
   "execution_count": 10,
   "metadata": {},
   "outputs": [
    {
     "name": "stdout",
     "output_type": "stream",
     "text": [
      "8905\n"
     ]
    }
   ],
   "source": [
    "print(len(vehicles))"
   ]
  }
 ],
 "metadata": {
  "kernelspec": {
   "display_name": "Python 3.9.5 ('parsing_wiki-cx4OeFqi')",
   "language": "python",
   "name": "python3"
  },
  "language_info": {
   "codemirror_mode": {
    "name": "ipython",
    "version": 3
   },
   "file_extension": ".py",
   "mimetype": "text/x-python",
   "name": "python",
   "nbconvert_exporter": "python",
   "pygments_lexer": "ipython3",
   "version": "3.9.5"
  },
  "orig_nbformat": 4,
  "vscode": {
   "interpreter": {
    "hash": "2ba141404436850bc4a8643e3b407cac7626f74cf685c58b382824b5f6bd7f31"
   }
  }
 },
 "nbformat": 4,
 "nbformat_minor": 2
}
